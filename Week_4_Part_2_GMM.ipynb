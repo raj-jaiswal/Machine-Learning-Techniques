{
  "nbformat": 4,
  "nbformat_minor": 0,
  "metadata": {
    "colab": {
      "provenance": [],
      "include_colab_link": true
    },
    "kernelspec": {
      "name": "python3",
      "display_name": "Python 3"
    },
    "language_info": {
      "name": "python"
    }
  },
  "cells": [
    {
      "cell_type": "markdown",
      "metadata": {
        "id": "view-in-github",
        "colab_type": "text"
      },
      "source": [
        "<a href=\"https://colab.research.google.com/github/raj-jaiswal/Machine-Learning-Techniques/blob/main/Week_4_Part_2_GMM.ipynb\" target=\"_parent\"><img src=\"https://colab.research.google.com/assets/colab-badge.svg\" alt=\"Open In Colab\"/></a>"
      ]
    },
    {
      "cell_type": "markdown",
      "source": [
        "# Week-4: Part-2\n"
      ],
      "metadata": {
        "id": "53TcQvUOjGxr"
      }
    },
    {
      "cell_type": "code",
      "source": [
        "import numpy as np\n",
        "import matplotlib.pyplot as plt\n",
        "# Set size of figure\n",
        "plt.rcParams['figure.figsize'] = [8, 8]\n",
        "# Set size of font\n",
        "plt.rcParams['font.size'] = 10"
      ],
      "metadata": {
        "id": "FasmVZvHPgMW"
      },
      "execution_count": 1,
      "outputs": []
    },
    {
      "cell_type": "markdown",
      "source": [
        "## GMM\n",
        "\n",
        "Now that we know how to sample from simple distributions like the Bernoulli and Gaussian, we shall move to sampling from a GMM. There are two steps here:\n",
        "\n",
        "- Pick a mixture $k$ from $K$ mixtures based on the categorical distribution governing it\n",
        "- Sample a point from the $k^{th}$ Gaussian"
      ],
      "metadata": {
        "id": "7A9Gri4ZP1oK"
      }
    },
    {
      "cell_type": "markdown",
      "source": [
        "## Problem-1\n",
        "\n",
        "Consider a GMM with $K = 3$. The mixture probabilities are given below. It is easier to work with zero-indexing, hence we will index our mixtures starting from $0$:\n",
        "\n",
        "$$\n",
        "\\pi_0 = 0.3\\\\\n",
        "\\pi_1 = 0.5\\\\\n",
        "\\pi_2 = 0.2\n",
        "$$\n",
        "\n",
        "Perform step-1 of the sampling process by choosing one of the three mixtures based on the above distribution. Call this value $k$. Use the cell given below for all your computation. Do not change the seed value. Enter $k$ as your answer."
      ],
      "metadata": {
        "id": "1GlVAG9-8qFY"
      }
    },
    {
      "cell_type": "code",
      "source": [
        "### RNG ###\n",
        "rng = np.random.default_rng(seed = 1001)\n",
        "### Solution ###\n",
        "k = rng.choice([0, 1, 2], size = 1, p = [0.3, 0.5, 0.2])[0]\n",
        "k"
      ],
      "metadata": {
        "id": "aQqjseA3RYkB",
        "colab": {
          "base_uri": "https://localhost:8080/"
        },
        "outputId": "91b14ae9-8c27-49f8-cad6-c6cd4afafce4"
      },
      "execution_count": 53,
      "outputs": [
        {
          "output_type": "execute_result",
          "data": {
            "text/plain": [
              "1"
            ]
          },
          "metadata": {},
          "execution_count": 53
        }
      ]
    },
    {
      "cell_type": "markdown",
      "source": [
        "## Problem-2\n",
        "\n",
        "Now we move to step-2 of the sampling process. Sample a point from mixture $k$ (obtained from the previous question). The means and variances of the mixtures are as follows:\n",
        "\n",
        "$$\n",
        "\\mu_1 = -4, \\sigma_1^2 = 2\\\\\n",
        "\\mu_2 = 0, \\sigma_2^2 = 1\\\\\n",
        "\\mu_3 = 5, \\sigma_3^2 = 3\n",
        "$$\n",
        "\n",
        "\n",
        "Use the cell given below for all your computation. Enter the sampled point correct to three decimal places."
      ],
      "metadata": {
        "id": "4hd29e0n9mar"
      }
    },
    {
      "cell_type": "code",
      "source": [
        "### RNG ###\n",
        "rng = np.random.default_rng(seed = 1001)\n",
        "### Solution ###\n",
        "means = [-4, 0, 5]\n",
        "variances = [2, 1, 3]\n",
        "X = rng.normal(loc = means[k], scale = np.sqrt(variances[k]), size = 1)\n",
        "X[0]"
      ],
      "metadata": {
        "id": "D0TUgnKG91t2",
        "colab": {
          "base_uri": "https://localhost:8080/"
        },
        "outputId": "4205ce1d-a35b-4d34-d5e3-fe5c975a7bef"
      },
      "execution_count": 54,
      "outputs": [
        {
          "output_type": "execute_result",
          "data": {
            "text/plain": [
              "0.9323224351204542"
            ]
          },
          "metadata": {},
          "execution_count": 54
        }
      ]
    },
    {
      "cell_type": "markdown",
      "source": [
        "## Problem-3\n",
        "\n",
        "Now that we have sampled one point, we are ready to do more. Sample $100,000$ points from the GMM. Generate each point step by step. Store the samples in a NumPy array `X` of shape $(100,000, )$. `X[i]` should hold the value of the $i^{th}$ point generated from the GMM.  Use the cell below for all your computation. Enter the mean of `X` as your answer correct to three decimal places."
      ],
      "metadata": {
        "id": "7FnbGy4p-jeK"
      }
    },
    {
      "cell_type": "code",
      "source": [
        "### RNG ###\n",
        "rng = np.random.default_rng(seed = 1001)\n",
        "### Solution ###\n",
        "X = np.zeros(100000)\n",
        "for i in range(100000):\n",
        "  k = rng.choice([0, 1, 2], size = 1, p = [0.3, 0.5, 0.2])[0]\n",
        "  X[i] = rng.normal(loc = means[k], scale = np.sqrt(variances[k]), size = 1)[0]\n",
        "X.mean()"
      ],
      "metadata": {
        "id": "XA8gv2jq-rTC",
        "colab": {
          "base_uri": "https://localhost:8080/"
        },
        "outputId": "dfa55598-e03a-440d-c4a2-44cd018e487b"
      },
      "execution_count": 55,
      "outputs": [
        {
          "output_type": "execute_result",
          "data": {
            "text/plain": [
              "-0.1930762698848285"
            ]
          },
          "metadata": {},
          "execution_count": 55
        }
      ]
    },
    {
      "cell_type": "markdown",
      "source": [
        "## Problem-4\n",
        "\n",
        "Plot a histogram of the dataset. Play around with the `bins` parameter of the `plt.hist` method. We will be using this dataset `X` all through the next section of the colab."
      ],
      "metadata": {
        "id": "2heXmKhI_uXb"
      }
    },
    {
      "cell_type": "code",
      "source": [
        "### Solution ###\n",
        "plt.hist(X, bins=150)"
      ],
      "metadata": {
        "id": "lpor62HP_xPF",
        "colab": {
          "base_uri": "https://localhost:8080/",
          "height": 1000
        },
        "outputId": "a1c56fc1-a3b5-49ea-b252-40069087130c"
      },
      "execution_count": 56,
      "outputs": [
        {
          "output_type": "execute_result",
          "data": {
            "text/plain": [
              "(array([1.000e+00, 1.000e+00, 1.000e+00, 4.000e+00, 9.000e+00, 3.000e+00,\n",
              "        9.000e+00, 1.400e+01, 1.300e+01, 2.300e+01, 3.500e+01, 4.300e+01,\n",
              "        5.300e+01, 7.000e+01, 7.700e+01, 1.120e+02, 1.340e+02, 1.540e+02,\n",
              "        1.900e+02, 2.370e+02, 3.030e+02, 3.520e+02, 3.620e+02, 4.140e+02,\n",
              "        5.170e+02, 5.920e+02, 6.210e+02, 7.530e+02, 8.220e+02, 8.960e+02,\n",
              "        9.440e+02, 1.007e+03, 1.036e+03, 1.063e+03, 1.186e+03, 1.140e+03,\n",
              "        1.216e+03, 1.227e+03, 1.196e+03, 1.220e+03, 1.154e+03, 1.150e+03,\n",
              "        1.138e+03, 9.820e+02, 9.450e+02, 9.090e+02, 8.810e+02, 8.250e+02,\n",
              "        8.050e+02, 7.300e+02, 8.570e+02, 8.380e+02, 8.790e+02, 9.960e+02,\n",
              "        1.080e+03, 1.259e+03, 1.443e+03, 1.604e+03, 1.889e+03, 2.055e+03,\n",
              "        2.257e+03, 2.421e+03, 2.649e+03, 2.759e+03, 2.908e+03, 2.859e+03,\n",
              "        2.885e+03, 2.780e+03, 2.591e+03, 2.490e+03, 2.302e+03, 2.036e+03,\n",
              "        1.722e+03, 1.558e+03, 1.273e+03, 1.167e+03, 9.260e+02, 7.490e+02,\n",
              "        6.390e+02, 5.520e+02, 4.550e+02, 3.930e+02, 3.510e+02, 3.450e+02,\n",
              "        3.510e+02, 3.330e+02, 3.390e+02, 4.040e+02, 4.090e+02, 4.290e+02,\n",
              "        4.840e+02, 5.140e+02, 5.020e+02, 5.650e+02, 5.580e+02, 5.850e+02,\n",
              "        6.020e+02, 6.270e+02, 6.200e+02, 6.540e+02, 6.680e+02, 6.180e+02,\n",
              "        6.480e+02, 6.510e+02, 6.840e+02, 6.360e+02, 5.490e+02, 5.650e+02,\n",
              "        5.130e+02, 5.220e+02, 4.570e+02, 4.420e+02, 3.950e+02, 4.030e+02,\n",
              "        3.480e+02, 3.140e+02, 2.790e+02, 2.510e+02, 2.180e+02, 1.900e+02,\n",
              "        1.730e+02, 1.500e+02, 1.240e+02, 1.160e+02, 1.060e+02, 8.500e+01,\n",
              "        6.900e+01, 6.000e+01, 4.500e+01, 4.300e+01, 3.700e+01, 2.300e+01,\n",
              "        2.100e+01, 2.300e+01, 1.700e+01, 1.300e+01, 6.000e+00, 6.000e+00,\n",
              "        4.000e+00, 4.000e+00, 4.000e+00, 2.000e+00, 1.000e+00, 0.000e+00,\n",
              "        1.000e+00, 0.000e+00, 1.000e+00, 0.000e+00, 1.000e+00, 2.000e+00]),\n",
              " array([-9.31716939, -9.17487043, -9.03257148, -8.89027252, -8.74797357,\n",
              "        -8.60567461, -8.46337566, -8.3210767 , -8.17877775, -8.03647879,\n",
              "        -7.89417984, -7.75188089, -7.60958193, -7.46728298, -7.32498402,\n",
              "        -7.18268507, -7.04038611, -6.89808716, -6.7557882 , -6.61348925,\n",
              "        -6.47119029, -6.32889134, -6.18659239, -6.04429343, -5.90199448,\n",
              "        -5.75969552, -5.61739657, -5.47509761, -5.33279866, -5.1904997 ,\n",
              "        -5.04820075, -4.90590179, -4.76360284, -4.62130389, -4.47900493,\n",
              "        -4.33670598, -4.19440702, -4.05210807, -3.90980911, -3.76751016,\n",
              "        -3.6252112 , -3.48291225, -3.34061329, -3.19831434, -3.05601539,\n",
              "        -2.91371643, -2.77141748, -2.62911852, -2.48681957, -2.34452061,\n",
              "        -2.20222166, -2.0599227 , -1.91762375, -1.77532479, -1.63302584,\n",
              "        -1.49072689, -1.34842793, -1.20612898, -1.06383002, -0.92153107,\n",
              "        -0.77923211, -0.63693316, -0.4946342 , -0.35233525, -0.2100363 ,\n",
              "        -0.06773734,  0.07456161,  0.21686057,  0.35915952,  0.50145848,\n",
              "         0.64375743,  0.78605639,  0.92835534,  1.0706543 ,  1.21295325,\n",
              "         1.3552522 ,  1.49755116,  1.63985011,  1.78214907,  1.92444802,\n",
              "         2.06674698,  2.20904593,  2.35134489,  2.49364384,  2.6359428 ,\n",
              "         2.77824175,  2.9205407 ,  3.06283966,  3.20513861,  3.34743757,\n",
              "         3.48973652,  3.63203548,  3.77433443,  3.91663339,  4.05893234,\n",
              "         4.2012313 ,  4.34353025,  4.4858292 ,  4.62812816,  4.77042711,\n",
              "         4.91272607,  5.05502502,  5.19732398,  5.33962293,  5.48192189,\n",
              "         5.62422084,  5.7665198 ,  5.90881875,  6.0511177 ,  6.19341666,\n",
              "         6.33571561,  6.47801457,  6.62031352,  6.76261248,  6.90491143,\n",
              "         7.04721039,  7.18950934,  7.3318083 ,  7.47410725,  7.6164062 ,\n",
              "         7.75870516,  7.90100411,  8.04330307,  8.18560202,  8.32790098,\n",
              "         8.47019993,  8.61249889,  8.75479784,  8.8970968 ,  9.03939575,\n",
              "         9.1816947 ,  9.32399366,  9.46629261,  9.60859157,  9.75089052,\n",
              "         9.89318948, 10.03548843, 10.17778739, 10.32008634, 10.4623853 ,\n",
              "        10.60468425, 10.7469832 , 10.88928216, 11.03158111, 11.17388007,\n",
              "        11.31617902, 11.45847798, 11.60077693, 11.74307589, 11.88537484,\n",
              "        12.0276738 ]),\n",
              " <BarContainer object of 150 artists>)"
            ]
          },
          "metadata": {},
          "execution_count": 56
        },
        {
          "output_type": "display_data",
          "data": {
            "text/plain": [
              "<Figure size 800x800 with 1 Axes>"
            ],
            "image/png": "[encoded data removed]"
          },
          "metadata": {}
        }
      ]
    },
    {
      "cell_type": "markdown",
      "source": [
        "## EM algorithm\n",
        "\n",
        "It is time to start coding up the EM algorithm from scratch. We will break this down into five stages:\n",
        "\n",
        "- Initialization\n",
        "- E-step\n",
        "- M-step\n",
        "- Stopping criterion\n",
        "- Algorithm\n",
        "\n",
        "For each of the first four stages, we will write functions that are related to that stage. All these functions will be eventually used in the code for the EM algorithm. This is a modular approach to writing the code. We have identified four blocks or stages. We can independently work on these four blocks and finally combine them. If something goes wrong, we can quickly localize the problem to one of these four blocks.\n"
      ],
      "metadata": {
        "id": "t1VFwTY0ArhB"
      }
    },
    {
      "cell_type": "markdown",
      "source": [
        "## Problem-5\n",
        "\n",
        "Write a function `init` that initializes the parameters of the GMM and returns `theta_0`, a NumPy array of shape $(3K, )$. The first $K$ elements of `theta_0` ($\\boldsymbol{\\theta}^{(0)}$) represents the means of the three mixtures, the next $K$ represent the variances and the last $K$ represent the mixture probabilities.\n",
        "\n",
        "The exact values to be used are as follows:\n",
        "\n",
        "- $\\mu_0 = 1, \\mu_1 = 2, \\mu_2 = 3$\n",
        "- $\\sigma_0^2 = \\sigma_1^2 = \\sigma_2^2 = 1$\n",
        "- $\\pi_0 = \\pi_1 = \\pi_2 = 1/3$\n",
        "\n",
        "Enter $||\\boldsymbol{\\theta}^{(0)}||$ as your answer correct to two decimal places. Keep this variable `theta_0` as it will be used in subsequent problems."
      ],
      "metadata": {
        "id": "YuhQSnp0BChl"
      }
    },
    {
      "cell_type": "code",
      "source": [
        "### Solution ###\n",
        "def init():\n",
        "  return np.array([1, 2, 3, 1, 1, 1, 1/3, 1/3, 1/3])\n",
        "theta_0 = init()\n",
        "np.linalg.norm(theta_0)"
      ],
      "metadata": {
        "id": "HKe2dspvIUgE",
        "colab": {
          "base_uri": "https://localhost:8080/"
        },
        "outputId": "33555b32-07c6-4784-ecb0-091fe25cc7c3"
      },
      "execution_count": 57,
      "outputs": [
        {
          "output_type": "execute_result",
          "data": {
            "text/plain": [
              "4.163331998932265"
            ]
          },
          "metadata": {},
          "execution_count": 57
        }
      ]
    },
    {
      "cell_type": "markdown",
      "source": [
        "## Problem-6\n",
        "\n",
        "Write a function `estep` that accepts `theta` and `X` as arguments. It should perform the E-step and return an array `lamb` of shape `(n, K)`. The element `lamb[i][k]` is equal to $\\lambda_k^{i}$. For the purposes of evaluation, run the function on `theta_0` and `X`. Call the returned value `lamb_1`.  Compute the sum of the zeroth column of the matrix `lamb_1` and enter that as your answer correct to two decimal places. Keep this variable `lamb_1` as it will be used in subsequent problems.\n",
        "\n",
        "\n",
        "**Aside**: We prefer the variable name `lamb` over `lambda` for a reason. Can you guess why?"
      ],
      "metadata": {
        "id": "EgsmXOKYJ76X"
      }
    },
    {
      "cell_type": "code",
      "source": [
        "### Solution ###\n",
        "def gaussian(x, mu, sigma):\n",
        "  den = sigma*np.sqrt(2*np.pi)\n",
        "  num = np.exp((-(x-mu)**2)/(2*sigma**2))\n",
        "  return num/den\n",
        "\n",
        "def estep(theta, X):\n",
        "  lamb = np.zeros([X.shape[0],3])\n",
        "  for i in range(X.shape[0]):\n",
        "    for k in range(3):\n",
        "      Pik = theta[-3+k]\n",
        "      num = gaussian(X[i], theta[k], np.sqrt(theta[k+3]))*Pik\n",
        "      den = sum([gaussian(X[i], theta[j], np.sqrt(theta[j+3]))*theta[-3+j] for j in range(3)])\n",
        "      lamb[i][k] = num/den\n",
        "  return lamb\n",
        "\n",
        "lamb_1 = estep(theta_0, X)\n",
        "lamb_1[:, 0].sum()"
      ],
      "metadata": {
        "id": "kKH7zNZ6IJsb",
        "colab": {
          "base_uri": "https://localhost:8080/"
        },
        "outputId": "5ee4354e-0d14-4c72-e019-ad49c1e86494"
      },
      "execution_count": 97,
      "outputs": [
        {
          "output_type": "execute_result",
          "data": {
            "text/plain": [
              "68226.19649822346"
            ]
          },
          "metadata": {},
          "execution_count": 97
        }
      ]
    },
    {
      "cell_type": "markdown",
      "source": [
        "## Problem-7\n",
        "\n",
        "Write a function `mstep` that accepts `lamb` and `X` as arguments. It should perform the M-step and return a NumPy array `theta`, the updated parameters, namely. We follow the same convention for storing the parameters as was done during the init step. For the purposes of evaluation, compute the value of the function for `lamb_1` and `X`. Call the returned value `theta_1` ($\\boldsymbol{\\theta}^{(1)}$). Enter $||\\boldsymbol{\\theta}^{(1)}||$  as your answer correct to two decimal places."
      ],
      "metadata": {
        "id": "Fqnf831nLAlP"
      }
    },
    {
      "cell_type": "code",
      "source": [
        "### Solution ###\n",
        "def mstep(lamb, X):\n",
        "  n = len(X)\n",
        "  K = 3\n",
        "  theta = np.zeros(9)\n",
        "\n",
        "  for k in range(K):\n",
        "    theta[k] = np.sum(lamb[:, k] * X) / np.sum(lamb[:, k])\n",
        "\n",
        "  for k in range(K):\n",
        "    theta[k + 3] = np.sum(lamb[:, k] * (X - theta[k])**2) / np.sum(lamb[:, k])\n",
        "\n",
        "  for k in range(K):\n",
        "    theta[k + 6] = np.sum(lamb[:, k]) / n\n",
        "  return theta\n",
        "\n",
        "theta_1 = mstep(lamb_1, X)\n",
        "np.linalg.norm(theta_1)"
      ],
      "metadata": {
        "id": "k9FSc2QiITDs",
        "colab": {
          "base_uri": "https://localhost:8080/"
        },
        "outputId": "b9f85191-97ca-4383-f88f-ca687c8b8070"
      },
      "execution_count": 78,
      "outputs": [
        {
          "output_type": "execute_result",
          "data": {
            "text/plain": [
              "8.691800143713886"
            ]
          },
          "metadata": {},
          "execution_count": 78
        }
      ]
    },
    {
      "cell_type": "markdown",
      "source": [
        "## Problem-8\n",
        "\n",
        "Given two vectors $\\boldsymbol{\\theta}^{(t)}$ and $\\boldsymbol{\\theta}^{(t + 1)}$, write a function `distance` that accepts these two vectors as arguments and returns the distance between them:\n",
        "\n",
        "$$\n",
        "||\\boldsymbol{\\theta}^{(t + 1)} - \\boldsymbol{\\theta}^{(t)}||\n",
        "$$\n",
        "\n",
        "For the purposes of evaluation, compute the distance between $\\boldsymbol{\\theta}^{(0)}$ and $\\boldsymbol{\\theta}^{(1)}$ and report your answer correct to two decimal places."
      ],
      "metadata": {
        "id": "0SLzBm4fLRSK"
      }
    },
    {
      "cell_type": "code",
      "source": [
        "### Solution ###\n",
        "def distance(theta_t, theta_t1):\n",
        "  return np.linalg.norm(theta_t - theta_t1)\n",
        "\n",
        "distance(theta_0, theta_1)"
      ],
      "metadata": {
        "id": "f-dyb9_4IVwI",
        "colab": {
          "base_uri": "https://localhost:8080/"
        },
        "outputId": "a8e55c6d-ce37-4865-e4c1-7c181ed61ab7"
      },
      "execution_count": 62,
      "outputs": [
        {
          "output_type": "execute_result",
          "data": {
            "text/plain": [
              "6.266759156221226"
            ]
          },
          "metadata": {},
          "execution_count": 62
        }
      ]
    },
    {
      "cell_type": "markdown",
      "source": [
        "## Problem-9\n",
        "\n",
        "Perform the EM algorithm until convergence. The stopping-criterion is that the distance between the two parameter-vectors should be less than $0.01$.\n",
        "\n",
        "$$\n",
        "||\\boldsymbol{\\theta}^{(t + 1)} - \\boldsymbol{\\theta}^{(t)}|| < 0.01\n",
        "$$\n",
        "\n",
        "\n",
        "Initialize the parameters to $\\boldsymbol{\\theta}^{(0)}$. Find the number of iterations it takes for the algorithm to converge. Enter this as your answer.\n",
        "\n",
        "This is going to take some time. Hold tight!"
      ],
      "metadata": {
        "id": "FFQwFcH6MELs"
      }
    },
    {
      "cell_type": "code",
      "source": [
        "### Solution ###\n",
        "theta_t = init()\n",
        "lamb = estep(theta_t, X)\n",
        "theta_t1 = mstep(lamb, X)\n",
        "n = 1\n",
        "while distance(theta_t, theta_t1) > 0.01:\n",
        "  theta_t = theta_t1[::]\n",
        "  lamb = estep(theta_t, X)\n",
        "  theta_t1 = mstep(lamb, X)\n",
        "  n += 1\n",
        "n"
      ],
      "metadata": {
        "id": "lqRgxVx2IXMp",
        "colab": {
          "base_uri": "https://localhost:8080/"
        },
        "outputId": "f26a558b-2da8-4a05-d6dc-ed1f50fe41cd"
      },
      "execution_count": 98,
      "outputs": [
        {
          "output_type": "execute_result",
          "data": {
            "text/plain": [
              "72"
            ]
          },
          "metadata": {},
          "execution_count": 98
        }
      ]
    },
    {
      "cell_type": "markdown",
      "source": [
        "## Problem-10\n",
        "\n",
        "Let us now verify the correctness of our algorithm. We know the true parameters here:\n",
        "\n",
        "$$\n",
        "\\boldsymbol{\\theta} = \\begin{bmatrix}\n",
        "-4\\\\\n",
        "0\\\\\n",
        "5\\\\\n",
        "2\\\\\n",
        "1\\\\\n",
        "3\\\\\n",
        "0.3\\\\\n",
        "0.5\\\\\n",
        "0.2\n",
        "\\end{bmatrix}\n",
        "$$\n",
        "\n",
        "Let $\\boldsymbol{\\theta}^{*}$ be the parameter at convergence. Compute the distance between this vector and the true parameter vector. Enter your answer correct to two decimal places. The smaller the distance, better our estimate."
      ],
      "metadata": {
        "id": "zB33Rp_4awWp"
      }
    },
    {
      "cell_type": "code",
      "source": [
        "### Solution ###\n",
        "distance(np.array([-4, 0, 5, 2, 1, 3, 0.3, 0.5, 0.2]), theta_t1)"
      ],
      "metadata": {
        "id": "WdfWCxQVbvBy",
        "colab": {
          "base_uri": "https://localhost:8080/"
        },
        "outputId": "62224292-aac2-4f18-f8e9-735764dea023"
      },
      "execution_count": 99,
      "outputs": [
        {
          "output_type": "execute_result",
          "data": {
            "text/plain": [
              "0.10196573248897496"
            ]
          },
          "metadata": {},
          "execution_count": 99
        }
      ]
    },
    {
      "cell_type": "markdown",
      "source": [
        "## Problem-11\n",
        "\n",
        "We shall do a hard clustering of the data-points. Use the final `lamb` value obtained and cluster the points using:\n",
        "\n",
        "$$\n",
        "z_i = \\operatorname*{argmax} \\limits_{k} \\lambda_k^{i}\n",
        "$$\n",
        "\n",
        "Let $0$, $1$ and $2$ correspond to the colors red, blue and green respectively. Plot three colored histograms on the same figure, one for each cluster."
      ],
      "metadata": {
        "id": "oD5eJxOBMfN-"
      }
    },
    {
      "cell_type": "code",
      "source": [
        "### Solution ###\n",
        "Z = np.argmax(lamb, axis = 1)\n",
        "plt.hist(X[Z==0], color = \"red\", bins = 100)\n",
        "plt.hist(X[Z==1], color = \"blue\", bins = 100)\n",
        "plt.hist(X[Z==2], color = \"green\", bins = 100);"
      ],
      "metadata": {
        "id": "NwRMqRTQgWbg",
        "colab": {
          "base_uri": "https://localhost:8080/",
          "height": 676
        },
        "outputId": "bab6b5fb-a7e7-4905-ef51-408fa4c8f2c7"
      },
      "execution_count": 100,
      "outputs": [
        {
          "output_type": "display_data",
          "data": {
            "text/plain": [
              "<Figure size 800x800 with 1 Axes>"
            ],
            "image/png": "[encoded data removed]"
          },
          "metadata": {}
        }
      ]
    },
    {
      "cell_type": "markdown",
      "source": [
        "## Extras\n",
        "\n",
        "Here are some of the things that can be tried out:\n",
        "\n",
        "- Make the stopping criterion more stringent and see the effect it has on the number of iterations\n",
        "- Change the size of the dataset and study the effect it has on convergence.\n",
        "- Change the initialization and study the effect it has on convergence\n",
        "- Change the number of mixtures and see what happens"
      ],
      "metadata": {
        "id": "mLYpnfPd-aHq"
      }
    }
  ]
}