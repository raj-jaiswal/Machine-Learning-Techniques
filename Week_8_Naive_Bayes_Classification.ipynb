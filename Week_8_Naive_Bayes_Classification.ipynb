{
  "nbformat": 4,
  "nbformat_minor": 0,
  "metadata": {
    "colab": {
      "provenance": [],
      "include_colab_link": true
    },
    "kernelspec": {
      "name": "python3",
      "display_name": "Python 3"
    },
    "language_info": {
      "name": "python"
    }
  },
  "cells": [
    {
      "cell_type": "markdown",
      "metadata": {
        "id": "view-in-github",
        "colab_type": "text"
      },
      "source": [
        "<a href=\"https://colab.research.google.com/github/raj-jaiswal/Machine-Learning-Techniques/blob/main/Week_8_Naive_Bayes_Classification.ipynb\" target=\"_parent\"><img src=\"https://colab.research.google.com/assets/colab-badge.svg\" alt=\"Open In Colab\"/></a>"
      ]
    },
    {
      "cell_type": "code",
      "execution_count": 3,
      "metadata": {
        "id": "IeFUTqbNKOzL"
      },
      "outputs": [],
      "source": [
        "import numpy as np\n",
        "import matplotlib.pyplot as plt"
      ]
    },
    {
      "cell_type": "markdown",
      "source": [
        "# Bernoulli naive Bayes"
      ],
      "metadata": {
        "id": "3KUeTDaZuse4"
      }
    },
    {
      "cell_type": "markdown",
      "source": [
        "Run the below cell to get the following variables:\n",
        "\n",
        "`X` = Data matrix of shape $(n, d)$. All the features are binary taking values $0$ or $1$.\n",
        "\n",
        "`y` = label vector. Labels are $0$ and $1$."
      ],
      "metadata": {
        "id": "xpHCecV1uwdn"
      }
    },
    {
      "cell_type": "code",
      "source": [
        "rng = np.random.default_rng(seed=1)\n",
        "X1 = np.concatenate((rng.binomial(size = 50,n = 1, p =0.7), rng.binomial(size = 50,n = 1, p =0.2))).reshape(-1, 1)\n",
        "X2 = np.concatenate((rng.binomial(size = 50,n = 1, p =0.6), rng.binomial(size = 50,n = 1, p =0.1))).reshape(-1, 1)\n",
        "X3 = np.concatenate((rng.binomial(size = 50,n = 1, p =0.6), rng.binomial(size = 50,n = 1, p =0.2))).reshape(-1, 1)\n",
        "X4 = np.concatenate((rng.binomial(size = 50,n = 1, p =0.8), rng.binomial(size = 50,n = 1, p =0.1))).reshape(-1, 1)\n",
        "\n",
        "\n",
        "X = np.column_stack((X1,X2,X3,X4))\n",
        "\n",
        "y = np.concatenate((np.zeros(50, dtype= int), np.ones(50, dtype = int))).reshape(-1, 1)\n",
        "permute = rng.permuted(range(100))\n",
        "\n",
        "X = X[permute]\n",
        "y = y[permute]"
      ],
      "metadata": {
        "id": "0PxEvCrZ3FD_"
      },
      "execution_count": 4,
      "outputs": []
    },
    {
      "cell_type": "markdown",
      "source": [
        "## Question 1\n",
        "If we train the naive Bayes model on the dataset, What will be the value of $\\hat{p}$, the estimate for $P(Y=1)$?\n",
        "\n"
      ],
      "metadata": {
        "id": "Zl_usamKCeY5"
      }
    },
    {
      "cell_type": "code",
      "source": [
        "# Enter your solution here\n",
        "p = y.sum()/len(y)\n",
        "p"
      ],
      "metadata": {
        "id": "J5lPVYy-8yLf",
        "colab": {
          "base_uri": "https://localhost:8080/"
        },
        "outputId": "b4310d4a-c2a1-406e-d586-2c135766c896"
      },
      "execution_count": 5,
      "outputs": [
        {
          "output_type": "execute_result",
          "data": {
            "text/plain": [
              "0.5"
            ]
          },
          "metadata": {},
          "execution_count": 5
        }
      ]
    },
    {
      "cell_type": "markdown",
      "source": [
        "## Question 2\n",
        "What will be the value of $\\hat{p}_0^0$, the estimate of $P(f_0=1|y=0)$?  Write your answer correct to two decimal places.\n",
        "\n"
      ],
      "metadata": {
        "id": "yOoMZca0DGhs"
      }
    },
    {
      "cell_type": "code",
      "source": [
        "# Enter your solution here\n",
        "def estimatedProb(label, index):\n",
        "  val=0\n",
        "  for i in range(len(X)):\n",
        "    if y[i] == label:\n",
        "      val += X[i][index]\n",
        "  return val/y.sum()\n",
        "\n",
        "estimatedProb(0,0)"
      ],
      "metadata": {
        "id": "8sD0Ryp0fEnp",
        "colab": {
          "base_uri": "https://localhost:8080/"
        },
        "outputId": "4eed69f0-3c2c-42bc-95d2-ba2b6359bc48"
      },
      "execution_count": 6,
      "outputs": [
        {
          "output_type": "execute_result",
          "data": {
            "text/plain": [
              "0.68"
            ]
          },
          "metadata": {},
          "execution_count": 6
        }
      ]
    },
    {
      "cell_type": "markdown",
      "source": [
        "## Question 3\n",
        "What will be the value of $\\hat{p}_0^1$, the estimate of $P(f_0=1|y=1)$?  Write your answer correct to two decimal places.\n",
        "\n"
      ],
      "metadata": {
        "id": "YzJLLT6-G8GC"
      }
    },
    {
      "cell_type": "code",
      "source": [
        "# Enter your solution here\n",
        "estimatedProb(1,0)"
      ],
      "metadata": {
        "id": "q7qSgWyXfFhF",
        "colab": {
          "base_uri": "https://localhost:8080/"
        },
        "outputId": "4046d878-d11d-424e-c56e-67b4ff90ee8d"
      },
      "execution_count": 7,
      "outputs": [
        {
          "output_type": "execute_result",
          "data": {
            "text/plain": [
              "0.26"
            ]
          },
          "metadata": {},
          "execution_count": 7
        }
      ]
    },
    {
      "cell_type": "markdown",
      "source": [
        "## Question 4\n",
        "What will be the value of $\\hat{p}_3^1$, the estimate of $P(f_3=1|y=1)$?  Write your answer correct to two decimal places.\n",
        "\n",
        "\n"
      ],
      "metadata": {
        "id": "NiciwccfHGwq"
      }
    },
    {
      "cell_type": "code",
      "source": [
        "# Enter your solution here\n",
        "estimatedProb(1,3)"
      ],
      "metadata": {
        "id": "YtXPKjmp6zOt",
        "colab": {
          "base_uri": "https://localhost:8080/"
        },
        "outputId": "8f8d9995-9ca0-4603-e638-fe417719b3c4"
      },
      "execution_count": 8,
      "outputs": [
        {
          "output_type": "execute_result",
          "data": {
            "text/plain": [
              "0.12"
            ]
          },
          "metadata": {},
          "execution_count": 8
        }
      ]
    },
    {
      "cell_type": "markdown",
      "source": [
        "## Question 5\n",
        "\n",
        "What will be the predicted label for the point $[1, 0, 1, 0]$?\n",
        "\n"
      ],
      "metadata": {
        "id": "3oJ0jnoHHcd9"
      }
    },
    {
      "cell_type": "code",
      "source": [
        "# Enter your solution here\n",
        "def predict(point):\n",
        "  p0 = 1\n",
        "  p1 = 1\n",
        "  for i in range(len(point)):\n",
        "    if point[i] == 1:\n",
        "      p0 *= estimatedProb(0,i)\n",
        "      p1 *= estimatedProb(1,i)\n",
        "    else:\n",
        "      p0 *= 1-estimatedProb(0,i)\n",
        "      p1 *= 1-estimatedProb(1,i)\n",
        "  p0 *= p\n",
        "  p1 *= 1-p\n",
        "  return 1 if p1 > p0 else 0\n",
        "\n",
        "predict([1, 0, 1, 0])"
      ],
      "metadata": {
        "id": "MoYmaBy9KQSU",
        "colab": {
          "base_uri": "https://localhost:8080/"
        },
        "outputId": "945d6711-807d-4934-d6e7-885da8aaa2cb"
      },
      "execution_count": 9,
      "outputs": [
        {
          "output_type": "execute_result",
          "data": {
            "text/plain": [
              "1"
            ]
          },
          "metadata": {},
          "execution_count": 9
        }
      ]
    },
    {
      "cell_type": "markdown",
      "source": [
        "## Question 6\n",
        "\n",
        "What will be the predicted label for the point $[1, 0, 1, 1]$?\n",
        "\n"
      ],
      "metadata": {
        "id": "3J2SCm1yHxd4"
      }
    },
    {
      "cell_type": "code",
      "source": [
        "# Enter your solution here\n",
        "predict([1, 0, 1, 1])"
      ],
      "metadata": {
        "id": "tK04m9YU7cXy",
        "colab": {
          "base_uri": "https://localhost:8080/"
        },
        "outputId": "08c7a8c4-0c08-4e6c-d512-caf39f82e9e7"
      },
      "execution_count": 10,
      "outputs": [
        {
          "output_type": "execute_result",
          "data": {
            "text/plain": [
              "0"
            ]
          },
          "metadata": {},
          "execution_count": 10
        }
      ]
    },
    {
      "cell_type": "markdown",
      "source": [
        "# Gaussian naive Bayes"
      ],
      "metadata": {
        "id": "45p6DAPA7dCl"
      }
    },
    {
      "cell_type": "markdown",
      "source": [
        "Run the below cell to get the following variables:\n",
        "\n",
        "`X_train` = Training dataset of the shape $(n, d)$. All the examples are coming from multivariate gaussian distribution.\n",
        "\n",
        "`y_train` = label vector for corresponding training examples. labels are $0$ and $1$.\n",
        "\n",
        "`X_test` = Test dataset of the shape $(m, d)$, where $m$ is the number of examples in the test dataset. All the examples are coming from multivariate gaussian distribution.\n",
        "\n",
        "`y_test` = label vector for corresponding test examples. labels are $0$ and $1$.\n",
        "\n"
      ],
      "metadata": {
        "id": "bbamhBbvjuzj"
      }
    },
    {
      "cell_type": "code",
      "source": [
        "from sklearn.datasets import make_classification, make_blobs\n",
        "from sklearn.model_selection import train_test_split\n",
        "\n",
        "# generate artificial data points\n",
        "X, y = make_blobs(n_samples = 100,\n",
        "                  n_features=2,\n",
        "                  centers=[[5,5],[10,10]],\n",
        "                  cluster_std=1.5,\n",
        "                  random_state=2)\n",
        "\n",
        "X_train, X_test, y_train, y_test = train_test_split(X, y, test_size=0.2,\n",
        "                                                    random_state=123)"
      ],
      "metadata": {
        "id": "qtqz8DPG7gok"
      },
      "execution_count": 11,
      "outputs": []
    },
    {
      "cell_type": "markdown",
      "source": [
        "## Question 7\n",
        "\n",
        "How many examples are there in the trianing dataset?\n",
        "\n"
      ],
      "metadata": {
        "id": "BRc3AVIZkphz"
      }
    },
    {
      "cell_type": "code",
      "source": [
        "# Enter your solution here\n",
        "len(X_train)"
      ],
      "metadata": {
        "id": "9nqy1H-nkybF",
        "colab": {
          "base_uri": "https://localhost:8080/"
        },
        "outputId": "b1b831cf-44a5-4315-a0d7-5cf18e93f7b4"
      },
      "execution_count": 12,
      "outputs": [
        {
          "output_type": "execute_result",
          "data": {
            "text/plain": [
              "80"
            ]
          },
          "metadata": {},
          "execution_count": 12
        }
      ]
    },
    {
      "cell_type": "markdown",
      "source": [
        "## Question 8\n",
        "How many features are there in the dataset?\n",
        "\n"
      ],
      "metadata": {
        "id": "KhQF7arNk6xf"
      }
    },
    {
      "cell_type": "code",
      "source": [
        "# Enter your solution here\n",
        "len(X_train[0])"
      ],
      "metadata": {
        "id": "uoO-_Wv9lruv",
        "colab": {
          "base_uri": "https://localhost:8080/"
        },
        "outputId": "68fdc6bf-4829-4a11-feb8-cb2c95dbe886"
      },
      "execution_count": 13,
      "outputs": [
        {
          "output_type": "execute_result",
          "data": {
            "text/plain": [
              "2"
            ]
          },
          "metadata": {},
          "execution_count": 13
        }
      ]
    },
    {
      "cell_type": "markdown",
      "source": [
        "## Question 9\n",
        "\n",
        "If we train the Gaussian naive Bayes model on the trianing dataset, What will be the value of $\\hat{p}$, the estimate for $P(Y=1)$? Write your answer correct to two decimal places.\n",
        "\n",
        "\n",
        "\n"
      ],
      "metadata": {
        "id": "yf2hc7NDlxm8"
      }
    },
    {
      "cell_type": "code",
      "source": [
        "# Enter your solution here\n",
        "p = y_train.sum()/len(y_train)\n",
        "p"
      ],
      "metadata": {
        "id": "LpJE6KJ5mpBp",
        "colab": {
          "base_uri": "https://localhost:8080/"
        },
        "outputId": "82c47b28-36f0-4d22-c49f-b3290b151f29"
      },
      "execution_count": 14,
      "outputs": [
        {
          "output_type": "execute_result",
          "data": {
            "text/plain": [
              "0.4875"
            ]
          },
          "metadata": {},
          "execution_count": 14
        }
      ]
    },
    {
      "cell_type": "markdown",
      "source": [
        "## Question 10\n",
        "\n",
        "If $\\hat{\\mu}_0 = [\\mu_1, \\mu_2, ..., \\mu_d]$ be the estimate for $\\mu_0$, the mean of $0$ labeled examples, what will be the value of $\\mu_1+\\mu_2+...+\\mu_d$? Write your answer correct to two decimal places.\n",
        "\n"
      ],
      "metadata": {
        "id": "0wQUcpH7mrZr"
      }
    },
    {
      "cell_type": "code",
      "source": [
        "# Enter your solution here\n",
        "def getmu(label):\n",
        "  mu = np.zeros(len(X_train[0]))\n",
        "  count = 0\n",
        "  for i in range(len(X_train)):\n",
        "    if y_train[i] == label:\n",
        "      mu += X_train[i]\n",
        "      count += 1\n",
        "  return mu/count\n",
        "\n",
        "mu0 = getmu(0)\n",
        "mu0.sum()"
      ],
      "metadata": {
        "id": "mtZ_BtxImJ0J",
        "colab": {
          "base_uri": "https://localhost:8080/"
        },
        "outputId": "c6e652b3-5f0d-4660-edaa-e15db77fee3e"
      },
      "execution_count": 19,
      "outputs": [
        {
          "output_type": "execute_result",
          "data": {
            "text/plain": [
              "9.575936394688135"
            ]
          },
          "metadata": {},
          "execution_count": 19
        }
      ]
    },
    {
      "cell_type": "markdown",
      "source": [
        "We will be using the different covariances for different labeled examples. The estimate for $\\Sigma_k$ will be\n",
        "\n",
        "$$\\hat{\\Sigma}_k = \\sigma_iI$$ where $\\sigma_i$ is the variance of $i^{th}$ feature values of examples labeled $k$.\n",
        "\n"
      ],
      "metadata": {
        "id": "1mnoFEJQnq9E"
      }
    },
    {
      "cell_type": "markdown",
      "source": [
        "## Question 11\n",
        "What will be value of $\\text{trace}({\\hat{\\Sigma}}_0)$?  Write your answer correct to two decimal places.\n",
        "\n",
        "\n",
        "\n",
        "\n",
        "\n"
      ],
      "metadata": {
        "id": "f-aioEqdpng7"
      }
    },
    {
      "cell_type": "code",
      "source": [
        "# Enter your solution here\n",
        "def getSigma(label, mu):\n",
        "  sigma = np.zeros((len(X_train[0]), len(X_train[0])))\n",
        "  count = 0\n",
        "  for i in range(len(X_train)):\n",
        "    if y_train[i] == label:\n",
        "      sigma += (X_train[i]-mu0).T@(X_train[i]-mu0)\n",
        "      count += 1\n",
        "  return sigma/count\n",
        "\n",
        "sigma0 = getSigma(0, mu0)\n",
        "np.trace(sigma0)"
      ],
      "metadata": {
        "id": "ExzW4sEOqpEF",
        "colab": {
          "base_uri": "https://localhost:8080/"
        },
        "outputId": "969a7e78-2842-43d2-c9e9-191ab5cb5620"
      },
      "execution_count": 26,
      "outputs": [
        {
          "output_type": "execute_result",
          "data": {
            "text/plain": [
              "8.870408389003142"
            ]
          },
          "metadata": {},
          "execution_count": 26
        }
      ]
    },
    {
      "cell_type": "markdown",
      "source": [
        "## Question 12\n",
        "\n",
        "Once we have estimated all the parameters for Gaussian naive Bayes assuming the different covariance matrices, we predict the labels for the training examples. What will be the training accuracy?\n",
        "\n",
        "Accuracy is defined as the proportion of correctly classified examples.  Write your answer correct to two decimal places.\n",
        "\n",
        "\n"
      ],
      "metadata": {
        "id": "UKbeWd7fq1Ny"
      }
    },
    {
      "cell_type": "code",
      "source": [
        "# Enter your solution here\n",
        "mu0 = getmu(0)\n",
        "mu1 = getmu(1)\n",
        "sigma0 = getSigma(0, mu0)\n",
        "sigma1 = getSigma(1, mu1)\n",
        "\n",
        "def predict(point):\n",
        "  p0 = 1\n",
        "  p1 = 1\n",
        "  for i in range(len(point)):\n",
        "    p0 *= 1/(np.sqrt(2*np.pi*sigma0[i][i]))*np.exp(-(point[i]-mu0[i])**2/(2*sigma0)[i][i])\n",
        "    p1 *= 1/(np.sqrt(2*np.pi*sigma1[i][i]))*np.exp(-(point[i]-mu1[i])**2/(2*sigma1)[i][i])\n",
        "  return 1 if p1 > p0 else 0\n",
        "\n",
        "def getAccuracy(X, y):\n",
        "  count = 0\n",
        "  for i in range(len(X)):\n",
        "    if predict(X[i]) == y[i]:\n",
        "      count += 1\n",
        "  return count/len(X)\n",
        "\n",
        "getAccuracy(X_train, y_train)"
      ],
      "metadata": {
        "id": "YIg9Z1K0GwUo",
        "colab": {
          "base_uri": "https://localhost:8080/"
        },
        "outputId": "17557086-a6e3-4fcf-ca40-2de0fab86d34"
      },
      "execution_count": 27,
      "outputs": [
        {
          "output_type": "execute_result",
          "data": {
            "text/plain": [
              "0.9875"
            ]
          },
          "metadata": {},
          "execution_count": 27
        }
      ]
    },
    {
      "cell_type": "markdown",
      "source": [
        "## Question 13\n",
        "\n",
        "What will be the test accuracy?\n",
        "\n",
        "Accuracy is defined as the proportion of correctly classified examples.  \n",
        "\n",
        "\n"
      ],
      "metadata": {
        "id": "kg661kj3uaxx"
      }
    },
    {
      "cell_type": "code",
      "source": [
        "# Enter your solution here\n",
        "getAccuracy(X_test, y_test)"
      ],
      "metadata": {
        "id": "ST0Ri7TEujUw",
        "colab": {
          "base_uri": "https://localhost:8080/"
        },
        "outputId": "4beaddbf-9a65-4927-ff27-6c493d2c4fd8"
      },
      "execution_count": 28,
      "outputs": [
        {
          "output_type": "execute_result",
          "data": {
            "text/plain": [
              "1.0"
            ]
          },
          "metadata": {},
          "execution_count": 28
        }
      ]
    }
  ]
}