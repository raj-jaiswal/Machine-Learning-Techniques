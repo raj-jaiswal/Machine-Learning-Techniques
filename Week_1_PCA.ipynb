{
  "nbformat": 4,
  "nbformat_minor": 0,
  "metadata": {
    "colab": {
      "provenance": [],
      "include_colab_link": true
    },
    "kernelspec": {
      "name": "python3",
      "display_name": "Python 3"
    },
    "language_info": {
      "name": "python"
    },
    "gpuClass": "standard"
  },
  "cells": [
    {
      "cell_type": "markdown",
      "metadata": {
        "id": "view-in-github",
        "colab_type": "text"
      },
      "source": [
        "<a href=\"https://colab.research.google.com/github/raj-jaiswal/Machine-Learning-Techniques/blob/main/Week_1_PCA.ipynb\" target=\"_parent\"><img src=\"https://colab.research.google.com/assets/colab-badge.svg\" alt=\"Open In Colab\"/></a>"
      ]
    },
    {
      "cell_type": "markdown",
      "source": [
        "# Week-1\n",
        "\n",
        "**Note to Learners**:\n",
        "\n",
        "- Click on \"Copy to Drive\", the button that appears just below the taskbar, to make a copy of this notebook in your drive. If you continue working with this notebook, changes **will not** be saved.\n",
        "\n",
        "\n",
        "- For questions that involve plotting, just enter $0$ as the answer in the portal.\n",
        "- For numerical questions, there are two parts. The first part expects you to compute some quantity, say a parameter of a machine learning model. The second part will require you to convert this quantity (if it is not a scalar) into a scalar so that it can be entered as the answer on the portal to the corresponding NAT question.\n",
        "\n"
      ],
      "metadata": {
        "id": "53TcQvUOjGxr"
      }
    },
    {
      "cell_type": "markdown",
      "source": [
        "## Dataset\n",
        "\n",
        "We will be working with a subset of the [MNIST dataset](https://en.wikipedia.org/wiki/MNIST_database). Run the cell given below to generate the data-matrix $\\mathbf{X}$, which is of shape $(n, d)$, where $n$ denotes the number of samples and $d$ denotes the number of features. You will be using this dataset for the rest of the assignment. Do not edit this cell."
      ],
      "metadata": {
        "id": "I3DzbeU33QxN"
      }
    },
    {
      "cell_type": "code",
      "source": [
        "##### DATASET GENERATION #####\n",
        "import numpy as np\n",
        "from keras.datasets import mnist\n",
        "(X_train, y_train), (X_test, y_test) = mnist.load_data()\n",
        "X = X_train[y_train == 2][: 100].reshape(-1, 28 * 28)\n",
        "test_image = X_test[y_test == 2][0].reshape(28 * 28)\n",
        "##### DO NOT EDIT THIS CELL #####"
      ],
      "metadata": {
        "id": "uOBXmnyg3ZFH",
        "colab": {
          "base_uri": "https://localhost:8080/"
        },
        "outputId": "306a2da9-c23a-4d7e-e994-5fdf06795c68"
      },
      "execution_count": null,
      "outputs": [
        {
          "output_type": "stream",
          "name": "stdout",
          "text": [
            "Downloading data from https://storage.googleapis.com/tensorflow/tf-keras-datasets/mnist.npz\n",
            "11490434/11490434 [==============================] - 1s 0us/step\n"
          ]
        }
      ]
    },
    {
      "cell_type": "markdown",
      "source": [
        "## Problem-1\n",
        "\n",
        "How many samples does the dataset have?"
      ],
      "metadata": {
        "id": "5RyvzK8z4o47"
      }
    },
    {
      "cell_type": "code",
      "source": [
        "# Enter your solution here\n",
        "n = X.shape[0]\n",
        "n"
      ],
      "metadata": {
        "id": "rFXCXoje52x-",
        "colab": {
          "base_uri": "https://localhost:8080/"
        },
        "outputId": "fe70e79e-44cd-49a1-b264-7daf228c0888"
      },
      "execution_count": null,
      "outputs": [
        {
          "output_type": "execute_result",
          "data": {
            "text/plain": [
              "100"
            ]
          },
          "metadata": {},
          "execution_count": 3
        }
      ]
    },
    {
      "cell_type": "markdown",
      "source": [
        "## Problem-2\n",
        "\n",
        "How many features does the dataset have?"
      ],
      "metadata": {
        "id": "UrmLi2sK4ynX"
      }
    },
    {
      "cell_type": "code",
      "source": [
        "# Enter your solution here\n",
        "d = X.shape[1]\n",
        "d"
      ],
      "metadata": {
        "id": "WQ75O4D141R0",
        "colab": {
          "base_uri": "https://localhost:8080/"
        },
        "outputId": "cd4d46b6-9558-43c5-af75-94a92e0471d3"
      },
      "execution_count": null,
      "outputs": [
        {
          "output_type": "execute_result",
          "data": {
            "text/plain": [
              "784"
            ]
          },
          "metadata": {},
          "execution_count": 4
        }
      ]
    },
    {
      "cell_type": "markdown",
      "source": [
        "## Problem-3\n",
        "\n",
        "Each sample corresponds to an image of dimension $28 \\times 28$. Visualize one of these images using the `matplotlib` library.\n",
        "\n",
        "- You need to know how to reshape a feature vector. Refer to week-0 content for the same.\n",
        "- You can refer to the following [document](https://matplotlib.org/stable/tutorials/introductory/images.html#sphx-glr-tutorials-introductory-images-py) for plotting NumPy arrays as images using `matplotlib`."
      ],
      "metadata": {
        "id": "BPUFxtI55G2h"
      }
    },
    {
      "cell_type": "code",
      "source": [
        "# Enter your solution here\n",
        "from PIL import Image\n",
        "\n",
        "import matplotlib.pyplot as plt\n",
        "import numpy as np\n",
        "\n",
        "img_idx = 78\n",
        "img = X[img_idx].reshape(28,28)\n",
        "imgplot = plt.imshow(img)"
      ],
      "metadata": {
        "id": "ExvRNXPZ6246",
        "colab": {
          "base_uri": "https://localhost:8080/",
          "height": 430
        },
        "outputId": "508b8bbc-fa95-4b2b-f8c2-6b72023aa45d"
      },
      "execution_count": null,
      "outputs": [
        {
          "output_type": "display_data",
          "data": {
            "text/plain": [
              "<Figure size 640x480 with 1 Axes>"
            ],
            "image/png": "[encoded data removed]"
          },
          "metadata": {}
        }
      ]
    },
    {
      "cell_type": "markdown",
      "source": [
        "## Problem-4\n",
        "\n",
        "Center the the dataset $\\mathbf{X}$ around its mean. Call this centered dataset $\\mathbf{X}^{\\prime}$.\n",
        "\n",
        "<u>Conversion</u>\n",
        "\n",
        "Enter the following quantity as your answer correct to two decimal places:\n",
        "\n",
        "$$\n",
        "\\cfrac{1}{n \\cdot d} \\sqrt{\\sum \\limits_{i = 1}^{n} \\sum \\limits_{j = 1}^{d} (X_{ij}^{\\prime})^2}\n",
        "$$"
      ],
      "metadata": {
        "id": "8e2xflo8FF8K"
      }
    },
    {
      "cell_type": "code",
      "source": [
        "# Enter your solution here\n",
        "means = X.mean(axis = 0).reshape(1, -1)\n",
        "X_centered = X - means\n",
        "sum = 0\n",
        "for i in range(n):\n",
        "  for j in range(d):\n",
        "    sum += X_centered[i][j] ** 2\n",
        "val = np.sqrt(sum) / n / d\n",
        "val"
      ],
      "metadata": {
        "id": "9uNDPtBjH5Df",
        "colab": {
          "base_uri": "https://localhost:8080/"
        },
        "outputId": "94f6417c-cc93-4433-b49a-002257fabcdc"
      },
      "execution_count": null,
      "outputs": [
        {
          "output_type": "execute_result",
          "data": {
            "text/plain": [
              "0.23242174456564954"
            ]
          },
          "metadata": {},
          "execution_count": 54
        }
      ]
    },
    {
      "cell_type": "markdown",
      "source": [
        "## Problem-5\n",
        "\n",
        "Compute the covariance matrix $\\mathbf{C}$ of the centered dataset.\n",
        "\n",
        "<u>Conversion</u>\n",
        "\n",
        "Enter the following quantity as your answer correct to two decimal places:\n",
        "\n",
        "$$\n",
        "\\cfrac{1}{d^2} \\sqrt{\\sum \\limits_{i = 1}^{d} \\sum \\limits_{j = 1}^{d} C_{ij}^2}\n",
        "$$"
      ],
      "metadata": {
        "id": "8UPKuD8uJCnE"
      }
    },
    {
      "cell_type": "code",
      "source": [
        "# Enter your solution here\n",
        "cov = X_centered.T @ X_centered / n\n",
        "sum = 0\n",
        "for i in range(d):\n",
        "  for j in range(d):\n",
        "    sum += cov[i][j] ** 2\n",
        "np.sqrt(sum) / (d ** 2)"
      ],
      "metadata": {
        "id": "ZWT1bzBDlk2m",
        "colab": {
          "base_uri": "https://localhost:8080/"
        },
        "outputId": "9b491952-2191-4a25-e35b-9fe73c78fc99"
      },
      "execution_count": null,
      "outputs": [
        {
          "output_type": "execute_result",
          "data": {
            "text/plain": [
              "1.3648061009232155"
            ]
          },
          "metadata": {},
          "execution_count": 8
        }
      ]
    },
    {
      "cell_type": "markdown",
      "source": [
        "## Problem-6\n",
        "\n",
        "Compute the first and second principal components of the dataset, $\\mathbf{w}_1$ and $\\mathbf{w}_2$.\n",
        "\n",
        "<u>Conversion</u>\n",
        "\n",
        "Compute:\n",
        "$$\n",
        "\\mathbf{w} = \\mathbf{w}_1 + \\mathbf{w}_2\n",
        "$$\n",
        "\n",
        "Enter the following quantity as your answer correct to two decimal places:\n",
        "\n",
        "$$\n",
        "\\left| \\sum \\limits_{i = 1}^{d} w_i \\right|\n",
        "$$"
      ],
      "metadata": {
        "id": "FfJK8OiMr2mh"
      }
    },
    {
      "cell_type": "code",
      "source": [
        "# Enter your solution here\n",
        "eigen_values, eigen_vectors = np.linalg.eig(cov)\n",
        "\n",
        "# Sort eigen values and eigen vectors in descending order of eigen values\n",
        "idx = np.argsort(eigen_values)[::-1]\n",
        "eigen_values = eigen_values[idx]\n",
        "eigen_vectors = eigen_vectors[:, idx]\n",
        "\n",
        "w1 = eigen_vectors[:, 0]\n",
        "w2 = eigen_vectors[:, 1]\n",
        "\n",
        "w = w1 + w2\n",
        "\n",
        "np.abs(np.sum(w))"
      ],
      "metadata": {
        "id": "KgJ1FCa1tvZR",
        "colab": {
          "base_uri": "https://localhost:8080/"
        },
        "outputId": "b80407b0-b07c-4b46-eb1b-495978f9b1ed"
      },
      "execution_count": null,
      "outputs": [
        {
          "output_type": "execute_result",
          "data": {
            "text/plain": [
              "1.0516243880598353"
            ]
          },
          "metadata": {},
          "execution_count": 67
        }
      ]
    },
    {
      "cell_type": "markdown",
      "source": [
        "## Problem-7\n",
        "\n",
        "Visualize the first principal component as an image."
      ],
      "metadata": {
        "id": "9CBt_pmj-5pl"
      }
    },
    {
      "cell_type": "code",
      "source": [
        "# Enter your solution here\n",
        "X_converted = X_centered @ w1\n",
        "newImg = w1 * X_converted[img_idx].real + means\n",
        "img = newImg.reshape(28,28)\n",
        "vals=[]\n",
        "for i in range(28):\n",
        "  vals.append([])\n",
        "  for j in range(28):\n",
        "    vals[i].append(0)\n",
        "for i in range(28):\n",
        "  for j in range(28):\n",
        "    vals[i][j] = img[i][j].real\n",
        "imgplot = plt.imshow(np.array(vals))\n"
      ],
      "metadata": {
        "id": "KXiJLyT7_N29",
        "colab": {
          "base_uri": "https://localhost:8080/",
          "height": 430
        },
        "outputId": "7f6dede2-8d01-4926-b97d-313c6dec979c"
      },
      "execution_count": null,
      "outputs": [
        {
          "output_type": "display_data",
          "data": {
            "text/plain": [
              "<Figure size 640x480 with 1 Axes>"
            ],
            "image/png": "[encoded data removed]"
          },
          "metadata": {}
        }
      ]
    },
    {
      "cell_type": "markdown",
      "source": [
        "## Problem-8\n",
        "\n",
        "Find the smallest value of $k$ for which the first $k$ principal components capture at least $95\\%$ of the variance in the data."
      ],
      "metadata": {
        "id": "o37ie_mqxqhy"
      }
    },
    {
      "cell_type": "code",
      "source": [
        "# Enter your solution here\n",
        "total = eigen_values.sum()\n",
        "var = 0\n",
        "k = 0\n",
        "while var < 0.95:\n",
        "  var += eigen_values[k] / total\n",
        "  k += 1\n",
        "k"
      ],
      "metadata": {
        "id": "_JiPpEwCyvQK",
        "colab": {
          "base_uri": "https://localhost:8080/"
        },
        "outputId": "ced74e1f-c31e-40e8-9370-6a3ebf086056"
      },
      "execution_count": null,
      "outputs": [
        {
          "output_type": "execute_result",
          "data": {
            "text/plain": [
              "53"
            ]
          },
          "metadata": {},
          "execution_count": 53
        }
      ]
    },
    {
      "cell_type": "markdown",
      "source": [
        "## Problem-9\n",
        "\n",
        "Given a `test_image`, visualize the proxies  by reconstructing it using the top $k$ principal components. Consider four values of $k$; values of $k$ for which the top-$k$ principal components explain:\n",
        "\n",
        "- 20% of the variance\n",
        "- 50% of the variance\n",
        "- 80% of the variance\n",
        "- 95% of the variance\n",
        "\n"
      ],
      "metadata": {
        "id": "5raTmu_s0Gpq"
      }
    },
    {
      "cell_type": "code",
      "source": [
        "# Enter your solution here\n",
        "total = eigen_values.sum()\n",
        "var = 0\n",
        "k = 0\n",
        "while var < 0.80:\n",
        "  var += eigen_values[k] / total\n",
        "  k += 1\n",
        "\n",
        "img = np.zeros((1, 28*28))\n",
        "nextX = X_centered\n",
        "\n",
        "for i in range(k):\n",
        "  w = eigen_vectors[:, i]\n",
        "  nextX_converted = nextX @ w\n",
        "  newImg = w * nextX_converted[img_idx].real\n",
        "  nextX = nextX - newImg\n",
        "  img = img + newImg\n",
        "\n",
        "img = img + means\n",
        "img = img.reshape(28,28)\n",
        "vals=[]\n",
        "for i in range(28):\n",
        "  vals.append([])\n",
        "  for j in range(28):\n",
        "    vals[i].append(0)\n",
        "for i in range(28):\n",
        "  for j in range(28):\n",
        "    vals[i][j] = img[i][j].real\n",
        "imgplot = plt.imshow(np.array(vals))"
      ],
      "metadata": {
        "id": "yrjf1Er24vLo",
        "colab": {
          "base_uri": "https://localhost:8080/",
          "height": 430
        },
        "outputId": "e36b034a-1044-4ac6-f20b-27d4474b0cca"
      },
      "execution_count": null,
      "outputs": [
        {
          "output_type": "display_data",
          "data": {
            "text/plain": [
              "<Figure size 640x480 with 1 Axes>"
            ],
            "image/png": "[encoded data removed]"
          },
          "metadata": {}
        }
      ]
    }
  ]
}